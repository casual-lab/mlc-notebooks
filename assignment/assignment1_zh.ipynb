{
  "cells": [
    {
      "cell_type": "markdown",
      "metadata": {
        "id": "view-in-github",
        "colab_type": "text"
      },
      "source": [
        "<a href=\"https://colab.research.google.com/github/casual-lab/mlc-notebooks/blob/main/assignment/assignment1_zh.ipynb\" target=\"_parent\"><img src=\"https://colab.research.google.com/assets/colab-badge.svg\" alt=\"Open In Colab\"/></a>"
      ]
    },
    {
      "cell_type": "markdown",
      "metadata": {
        "id": "EPWir0HobxtA"
      },
      "source": [
        "# MLC 作业 1: 端到端模型执行"
      ]
    },
    {
      "cell_type": "markdown",
      "metadata": {
        "id": "1-qSvyI9bxtC"
      },
      "source": [
        "## 第一部分: 模型准备\n",
        "\n",
        "本作业的目标是让你对机器学习编译过程中的端到端模型的执行和变换更加熟悉。让我们从一个简单的图像分类模型开始。\n",
        "\n",
        "我们首先使用如下的命令来安装必要的库。"
      ]
    },
    {
      "cell_type": "code",
      "execution_count": 7,
      "metadata": {
        "colab": {
          "base_uri": "https://localhost:8080/"
        },
        "id": "zGLJ4-fnbxtD",
        "outputId": "75249057-dc1e-4619-d154-8e8d41f33521"
      },
      "outputs": [
        {
          "output_type": "stream",
          "name": "stdout",
          "text": [
            "Looking in links: https://mlc.ai/wheels\n",
            "Requirement already satisfied: mlc-ai-nightly in /usr/local/lib/python3.10/dist-packages (0.15.dev570)\n",
            "Requirement already satisfied: attrs in /usr/local/lib/python3.10/dist-packages (from mlc-ai-nightly) (24.2.0)\n",
            "Requirement already satisfied: cloudpickle in /usr/local/lib/python3.10/dist-packages (from mlc-ai-nightly) (3.1.0)\n",
            "Requirement already satisfied: decorator in /usr/local/lib/python3.10/dist-packages (from mlc-ai-nightly) (4.4.2)\n",
            "Requirement already satisfied: ml-dtypes in /usr/local/lib/python3.10/dist-packages (from mlc-ai-nightly) (0.4.1)\n",
            "Requirement already satisfied: numpy in /usr/local/lib/python3.10/dist-packages (from mlc-ai-nightly) (1.26.4)\n",
            "Requirement already satisfied: packaging in /usr/local/lib/python3.10/dist-packages (from mlc-ai-nightly) (24.2)\n",
            "Requirement already satisfied: psutil in /usr/local/lib/python3.10/dist-packages (from mlc-ai-nightly) (5.9.5)\n",
            "Requirement already satisfied: scipy in /usr/local/lib/python3.10/dist-packages (from mlc-ai-nightly) (1.13.1)\n",
            "Requirement already satisfied: tornado in /usr/local/lib/python3.10/dist-packages (from mlc-ai-nightly) (6.3.3)\n",
            "Requirement already satisfied: typing-extensions in /usr/local/lib/python3.10/dist-packages (from mlc-ai-nightly) (4.12.2)\n",
            "Looking in indexes: https://pypi.org/simple, https://download.pytorch.org/whl/cpu\n",
            "Requirement already satisfied: torch in /usr/local/lib/python3.10/dist-packages (2.5.1+cu121)\n",
            "Requirement already satisfied: torchvision in /usr/local/lib/python3.10/dist-packages (0.20.1+cu121)\n",
            "Requirement already satisfied: torchaudio in /usr/local/lib/python3.10/dist-packages (2.5.1+cu121)\n",
            "Requirement already satisfied: torchsummary in /usr/local/lib/python3.10/dist-packages (1.5.1)\n",
            "Requirement already satisfied: filelock in /usr/local/lib/python3.10/dist-packages (from torch) (3.16.1)\n",
            "Requirement already satisfied: typing-extensions>=4.8.0 in /usr/local/lib/python3.10/dist-packages (from torch) (4.12.2)\n",
            "Requirement already satisfied: networkx in /usr/local/lib/python3.10/dist-packages (from torch) (3.4.2)\n",
            "Requirement already satisfied: jinja2 in /usr/local/lib/python3.10/dist-packages (from torch) (3.1.4)\n",
            "Requirement already satisfied: fsspec in /usr/local/lib/python3.10/dist-packages (from torch) (2024.10.0)\n",
            "Requirement already satisfied: sympy==1.13.1 in /usr/local/lib/python3.10/dist-packages (from torch) (1.13.1)\n",
            "Requirement already satisfied: mpmath<1.4,>=1.1.0 in /usr/local/lib/python3.10/dist-packages (from sympy==1.13.1->torch) (1.3.0)\n",
            "Requirement already satisfied: numpy in /usr/local/lib/python3.10/dist-packages (from torchvision) (1.26.4)\n",
            "Requirement already satisfied: pillow!=8.3.*,>=5.3.0 in /usr/local/lib/python3.10/dist-packages (from torchvision) (11.0.0)\n",
            "Requirement already satisfied: MarkupSafe>=2.0 in /usr/local/lib/python3.10/dist-packages (from jinja2->torch) (3.0.2)\n"
          ]
        }
      ],
      "source": [
        "!python3 -m pip install mlc-ai-nightly -f https://mlc.ai/wheels\n",
        "!python3 -m pip install torch torchvision torchaudio torchsummary --extra-index-url https://download.pytorch.org/whl/cpu"
      ]
    },
    {
      "cell_type": "code",
      "execution_count": 8,
      "metadata": {
        "id": "FcKwP1u5bxtE"
      },
      "outputs": [],
      "source": [
        "import numpy as np\n",
        "import pickle as pkl\n",
        "import torch\n",
        "import torch.nn.functional as F\n",
        "import torchvision\n",
        "import tvm\n",
        "import tvm.testing\n",
        "\n",
        "from matplotlib import pyplot as plt\n",
        "from torch import nn\n",
        "from torchvision import transforms\n",
        "from tvm import topi, relax, te\n",
        "from tvm.script import tir as T\n"
      ]
    },
    {
      "cell_type": "markdown",
      "metadata": {
        "id": "lCpaJFLUbxtF"
      },
      "source": [
        "以下是用PyTorch定义的模型。该模型接受一批图像为输入，然后对它们依次作用卷积层，激活层，池化层和全连接层，得到分类结果。"
      ]
    },
    {
      "cell_type": "code",
      "execution_count": 9,
      "metadata": {
        "id": "P-74ChN4bxtF"
      },
      "outputs": [],
      "source": [
        "batch_size = 4\n",
        "input_shape = (batch_size, 1, 28, 28)  # NCHW layout\n",
        "\n",
        "\n",
        "def pytorch_model():\n",
        "    list = []\n",
        "    list.append(nn.Conv2d(in_channels=1, out_channels=32, kernel_size=(3, 3), bias=True))\n",
        "    list.append(nn.ReLU())\n",
        "    list.append(nn.MaxPool2d(kernel_size=(2, 2)))\n",
        "    list.append(nn.Flatten())\n",
        "    list.append(nn.Linear(in_features=5408, out_features=100, bias=True))\n",
        "    list.append(nn.ReLU())\n",
        "    list.append(nn.Linear(in_features=100, out_features=10, bias=True))\n",
        "    list.append(nn.Softmax(dim=1))\n",
        "\n",
        "    model = nn.Sequential(*list).cpu()\n",
        "    name_map = {\n",
        "        \"0.weight\": \"conv2d_weight\",\n",
        "        \"0.bias\": \"conv2d_bias\",\n",
        "        \"4.weight\": \"linear0_weight\",\n",
        "        \"4.bias\": \"linear0_bias\",\n",
        "        \"6.weight\": \"linear1_weight\",\n",
        "        \"6.bias\": \"linear1_bias\",\n",
        "    }\n",
        "    for name, param in model.named_parameters():\n",
        "        param.data = torch.from_numpy(weight_map[name_map[name]]).cpu()\n",
        "    return model\n"
      ]
    },
    {
      "cell_type": "markdown",
      "metadata": {
        "id": "FDeN0nCdbxtG"
      },
      "source": [
        "我们提供了一个在Fashion MNIST数据集上的预训练权重图。"
      ]
    },
    {
      "cell_type": "code",
      "execution_count": 10,
      "metadata": {
        "colab": {
          "base_uri": "https://localhost:8080/"
        },
        "id": "ja1i0SiEbxtH",
        "outputId": "34591727-a669-4d47-9d46-db1fb45c44c1"
      },
      "outputs": [
        {
          "output_type": "stream",
          "name": "stdout",
          "text": [
            "File ‘fasionmnist_mlp_assignment_params.pkl’ already there; not retrieving.\n",
            "\n"
          ]
        }
      ],
      "source": [
        "# Hide outputs\n",
        "!wget -nc https://github.com/mlc-ai/web-data/raw/main/models/fasionmnist_mlp_assignment_params.pkl"
      ]
    },
    {
      "cell_type": "markdown",
      "metadata": {
        "id": "JeLbQxxAbxtH"
      },
      "source": [
        "我们可以看到它的准确率约为84%。"
      ]
    },
    {
      "cell_type": "code",
      "execution_count": 11,
      "metadata": {
        "colab": {
          "base_uri": "https://localhost:8080/",
          "height": 501
        },
        "id": "f01sISrWbxtI",
        "outputId": "992d0645-bf82-4458-9ab9-51eeedaa185f"
      },
      "outputs": [
        {
          "output_type": "display_data",
          "data": {
            "text/plain": [
              "<Figure size 640x480 with 1 Axes>"
            ],
            "image/png": "[encoded data removed]"
          },
          "metadata": {}
        },
        {
          "output_type": "stream",
          "name": "stdout",
          "text": [
            "predict: Ankle boot, label: Ankle boot\n",
            "\n",
            "Test set: Average loss: -0.8369, Accuracy: 8388/10000 (84%)\n",
            "\n"
          ]
        }
      ],
      "source": [
        "# Load the weight map from file.\n",
        "# The prediction accuracy of the weight map on test data is around 83.3%.\n",
        "weight_map = pkl.load(open(\"fasionmnist_mlp_assignment_params.pkl\", \"rb\"))\n",
        "class_names = ['T-shirt/top', 'Trouser', 'Pullover', 'Dress', 'Coat',\n",
        "               'Sandal', 'Shirt', 'Sneaker', 'Bag', 'Ankle boot']\n",
        "\n",
        "\n",
        "def test(model, test_loader):\n",
        "    model.eval()\n",
        "    test_loss = 0\n",
        "    correct = 0\n",
        "    with torch.no_grad():\n",
        "        print_img = True\n",
        "        for data, label in test_loader:\n",
        "            data, label = data.cpu(), label.cpu()\n",
        "            output = model(data)\n",
        "            # sum up batch loss\n",
        "            test_loss += F.nll_loss(output, label, reduction=\"sum\").item()\n",
        "            # get the index of the max log-probability\n",
        "            pred = output.argmax(dim=1, keepdim=True)\n",
        "            if print_img:\n",
        "                imshow(data[0])\n",
        "                print(\"predict: {}, label: {}\".format(class_names[pred[0][0]], class_names[label[0]]))\n",
        "                print_img = False\n",
        "            correct += pred.eq(label.view_as(pred)).sum().item()\n",
        "\n",
        "    test_loss /= len(test_loader.dataset)\n",
        "\n",
        "    print(\"\\nTest set: Average loss: {:.4f}, Accuracy: {}/{} ({:.0f}%)\\n\".format(\n",
        "        test_loss, correct, len(test_loader.dataset),\n",
        "        100. * correct / len(test_loader.dataset)))\n",
        "\n",
        "\n",
        "def imshow(img):\n",
        "    img = img / 2 + 0.5\n",
        "    npimg = img.numpy()\n",
        "    plt.imshow(np.transpose(npimg, (1, 2, 0)))\n",
        "    plt.show()\n",
        "\n",
        "\n",
        "test_data = torchvision.datasets.FashionMNIST(\n",
        "    \"./data\",\n",
        "    download=True,\n",
        "    train=False,\n",
        "    transform=transforms.Compose([transforms.ToTensor()])\n",
        ")\n",
        "test_loader = torch.utils.data.DataLoader(\n",
        "    test_data, batch_size=batch_size, shuffle=False)\n",
        "test(pytorch_model(), test_loader)\n"
      ]
    },
    {
      "cell_type": "markdown",
      "metadata": {
        "id": "IdIJc5q5bxtI"
      },
      "source": [
        "## 第二部分: 从PyTorch迁移模型\n",
        "为了展示机器学习编译对端到端模型的抽象，我们需要将模型从PyTorch迁移并转换为TVMScript实现。然后，手工迁移很难。正如你在TensorIR练习中所体验的那样，为模型中的每一层写一个元张量函数需要大量的人力来完成。另外，手工写这些函数是容易犯错的。你可以想象，当你写了几百行，但其中有零星几个bug，那么找到bug的过程将会是痛苦的。\n",
        "\n",
        "幸运的是，在TVM中有一个简单的多的方法能够迁移模型。TVM提供了一个类`relax.BlockBuilder`，它能够从空白的IRModule开始一步步的构建端到端模型。（回忆我们在第四节课中介绍的Relax的Dataflow Block，这里的\"block\"就是代表了Relax函数中的Dataflow Block）\n",
        "\n",
        "具体而言，在 `BlockBuilder`中我们有一个 `emit_te`的API，它可以将一个张量表达式（第三节课中介绍过）的算子描述转变成一个对应TensorIR函数的`call_tir`操作（`call_tir`在第四节课中介绍过）。与手工写TensorIR函数相比，写张量表达式描述可以用几行代码来完成，这减少了需要的工作量和犯错的概率。\n",
        "\n",
        "`emit_te`的函数签名是`emit_te(func, *input)`，其中`func`是一个返回张量表达式的函数，而`*input`是`func`的输入。\n",
        "\n",
        "让我们从一个例子开始详细介绍。在下方的代码块中，`relu`是一个返回ReLU算子的张量表达式描述的函数。为了构建一个执行单个ReLU算子的Relax函数，在`emit_te_example`中我们首先定义了一个`BlockBuilder`实例`bb`。我们也定义了一个2维128x128大小的张量变量`x`，它将作为ReLU操作的输入张量（同时也是Relax函数的输入）。\n",
        "\n",
        "在这之后，我们用`with bb.function(name, [*input])` API构建一个以`x`为输入的Relax函数 `main`。然后我们构建一个dataflow block。在这个dataflow block里，我们首先用`emit_te`生成一个调用ReLU算子的`call_tir`。这里 `emit_te`在IRModule中生成了一个名字为`relu`的TensorIR函数，然后在dataflow block中生成`call_tir(relu, (x,), (128, 128), dtype=\"float32\")`操作。`call_tir`之后是函数返回。\n",
        "\n",
        "在这一构造之后，BlockBuilder实例`bb`包含构建完的IRModule，它可以通过`bb.get()`得到。"
      ]
    },
    {
      "cell_type": "code",
      "execution_count": 18,
      "metadata": {
        "id": "OQgSH4QkbxtI"
      },
      "outputs": [],
      "source": [
        "def relu(A):\n",
        "    B = te.compute(shape=(128, 128), fcompute=lambda i, j: te.max(A[i, j], 0), name=\"B\")\n",
        "    return B\n",
        "\n",
        "\n",
        "def emit_te_example():\n",
        "    bb = relax.BlockBuilder()\n",
        "    x = relax.Var(\"x\", relax.TensorStructInfo((128, 128),\"float32\"))\n",
        "    with bb.function(\"main\", [x]):\n",
        "        with bb.dataflow():\n",
        "            lv0 = bb.emit_te(relu, x)\n",
        "            gv = bb.emit_output(lv0)\n",
        "        bb.emit_func_output(gv)\n",
        "    return bb.get()\n"
      ]
    },
    {
      "cell_type": "markdown",
      "metadata": {
        "id": "FY2uSWX3bxtJ"
      },
      "source": [
        "函数`emit_te_example`返回构造得到的IRModule。为了看的更清楚，我们可以输出这一IRModule。"
      ]
    },
    {
      "cell_type": "code",
      "execution_count": 19,
      "metadata": {
        "colab": {
          "base_uri": "https://localhost:8080/",
          "height": 455
        },
        "id": "pIwco5TJbxtJ",
        "outputId": "60aec198-4a7c-4df6-bff2-f2824ac509f3"
      },
      "outputs": [
        {
          "output_type": "execute_result",
          "data": {
            "text/plain": [
              "# from tvm.script import ir as I\n",
              "# from tvm.script import tir as T\n",
              "# from tvm.script import relax as R\n",
              "\n",
              "@I.ir_module\n",
              "class Module:\n",
              "    @T.prim_func(private=True)\n",
              "    def relu(x: T.Buffer((T.int64(128), T.int64(128)), \"float32\"), B: T.Buffer((T.int64(128), T.int64(128)), \"float32\")):\n",
              "        T.func_attr({\"tir.noalias\": T.bool(True)})\n",
              "        # with T.block(\"root\"):\n",
              "        for i, j in T.grid(T.int64(128), T.int64(128)):\n",
              "            with T.block(\"B\"):\n",
              "                v_i, v_j = T.axis.remap(\"SS\", [i, j])\n",
              "                T.reads(x[v_i, v_j])\n",
              "                T.writes(B[v_i, v_j])\n",
              "                B[v_i, v_j] = T.max(x[v_i, v_j], T.float32(0.0))\n",
              "\n",
              "    @R.function\n",
              "    def main(x: R.Tensor((128, 128), dtype=\"float32\")) -> R.Tensor((128, 128), dtype=\"float32\"):\n",
              "        cls = Module\n",
              "        with R.dataflow():\n",
              "            lv = R.call_tir(cls.relu, (x,), out_sinfo=R.Tensor((128, 128), dtype=\"float32\"))\n",
              "            gv: R.Tensor((128, 128), dtype=\"float32\") = lv\n",
              "            R.output(gv)\n",
              "        return gv"
            ],
            "text/html": [
              "<style>pre { line-height: 125%; }\n",
              "td.linenos .normal { color: inherit; background-color: transparent; padding-left: 5px; padding-right: 5px; }\n",
              "span.linenos { color: inherit; background-color: transparent; padding-left: 5px; padding-right: 5px; }\n",
              "td.linenos .special { color: #000000; background-color: #ffffc0; padding-left: 5px; padding-right: 5px; }\n",
              "span.linenos.special { color: #000000; background-color: #ffffc0; padding-left: 5px; padding-right: 5px; }\n",
              ".output_html .hll { background-color: #ffffcc }\n",
              ".output_html { background: #f8f8f8; }\n",
              ".output_html .c { color: #3D7B7B; font-style: italic } /* Comment */\n",
              ".output_html .err { border: 1px solid #FF0000 } /* Error */\n",
              ".output_html .k { color: #008000; font-weight: bold } /* Keyword */\n",
              ".output_html .o { color: #666666 } /* Operator */\n",
              ".output_html .ch { color: #3D7B7B; font-style: italic } /* Comment.Hashbang */\n",
              ".output_html .cm { color: #3D7B7B; font-style: italic } /* Comment.Multiline */\n",
              ".output_html .cp { color: #9C6500 } /* Comment.Preproc */\n",
              ".output_html .cpf { color: #3D7B7B; font-style: italic } /* Comment.PreprocFile */\n",
              ".output_html .c1 { color: #3D7B7B; font-style: italic } /* Comment.Single */\n",
              ".output_html .cs { color: #3D7B7B; font-style: italic } /* Comment.Special */\n",
              ".output_html .gd { color: #A00000 } /* Generic.Deleted */\n",
              ".output_html .ge { font-style: italic } /* Generic.Emph */\n",
              ".output_html .ges { font-weight: bold; font-style: italic } /* Generic.EmphStrong */\n",
              ".output_html .gr { color: #E40000 } /* Generic.Error */\n",
              ".output_html .gh { color: #000080; font-weight: bold } /* Generic.Heading */\n",
              ".output_html .gi { color: #008400 } /* Generic.Inserted */\n",
              ".output_html .go { color: #717171 } /* Generic.Output */\n",
              ".output_html .gp { color: #000080; font-weight: bold } /* Generic.Prompt */\n",
              ".output_html .gs { font-weight: bold } /* Generic.Strong */\n",
              ".output_html .gu { color: #800080; font-weight: bold } /* Generic.Subheading */\n",
              ".output_html .gt { color: #0044DD } /* Generic.Traceback */\n",
              ".output_html .kc { color: #008000; font-weight: bold } /* Keyword.Constant */\n",
              ".output_html .kd { color: #008000; font-weight: bold } /* Keyword.Declaration */\n",
              ".output_html .kn { color: #008000; font-weight: bold } /* Keyword.Namespace */\n",
              ".output_html .kp { color: #008000 } /* Keyword.Pseudo */\n",
              ".output_html .kr { color: #008000; font-weight: bold } /* Keyword.Reserved */\n",
              ".output_html .kt { color: #B00040 } /* Keyword.Type */\n",
              ".output_html .m { color: #666666 } /* Literal.Number */\n",
              ".output_html .s { color: #BA2121 } /* Literal.String */\n",
              ".output_html .na { color: #687822 } /* Name.Attribute */\n",
              ".output_html .nb { color: #008000 } /* Name.Builtin */\n",
              ".output_html .nc { color: #0000FF; font-weight: bold } /* Name.Class */\n",
              ".output_html .no { color: #880000 } /* Name.Constant */\n",
              ".output_html .nd { color: #AA22FF } /* Name.Decorator */\n",
              ".output_html .ni { color: #717171; font-weight: bold } /* Name.Entity */\n",
              ".output_html .ne { color: #CB3F38; font-weight: bold } /* Name.Exception */\n",
              ".output_html .nf { color: #0000FF } /* Name.Function */\n",
              ".output_html .nl { color: #767600 } /* Name.Label */\n",
              ".output_html .nn { color: #0000FF; font-weight: bold } /* Name.Namespace */\n",
              ".output_html .nt { color: #008000; font-weight: bold } /* Name.Tag */\n",
              ".output_html .nv { color: #19177C } /* Name.Variable */\n",
              ".output_html .ow { color: #AA22FF; font-weight: bold } /* Operator.Word */\n",
              ".output_html .w { color: #bbbbbb } /* Text.Whitespace */\n",
              ".output_html .mb { color: #666666 } /* Literal.Number.Bin */\n",
              ".output_html .mf { color: #666666 } /* Literal.Number.Float */\n",
              ".output_html .mh { color: #666666 } /* Literal.Number.Hex */\n",
              ".output_html .mi { color: #666666 } /* Literal.Number.Integer */\n",
              ".output_html .mo { color: #666666 } /* Literal.Number.Oct */\n",
              ".output_html .sa { color: #BA2121 } /* Literal.String.Affix */\n",
              ".output_html .sb { color: #BA2121 } /* Literal.String.Backtick */\n",
              ".output_html .sc { color: #BA2121 } /* Literal.String.Char */\n",
              ".output_html .dl { color: #BA2121 } /* Literal.String.Delimiter */\n",
              ".output_html .sd { color: #BA2121; font-style: italic } /* Literal.String.Doc */\n",
              ".output_html .s2 { color: #BA2121 } /* Literal.String.Double */\n",
              ".output_html .se { color: #AA5D1F; font-weight: bold } /* Literal.String.Escape */\n",
              ".output_html .sh { color: #BA2121 } /* Literal.String.Heredoc */\n",
              ".output_html .si { color: #A45A77; font-weight: bold } /* Literal.String.Interpol */\n",
              ".output_html .sx { color: #008000 } /* Literal.String.Other */\n",
              ".output_html .sr { color: #A45A77 } /* Literal.String.Regex */\n",
              ".output_html .s1 { color: #BA2121 } /* Literal.String.Single */\n",
              ".output_html .ss { color: #19177C } /* Literal.String.Symbol */\n",
              ".output_html .bp { color: #008000 } /* Name.Builtin.Pseudo */\n",
              ".output_html .fm { color: #0000FF } /* Name.Function.Magic */\n",
              ".output_html .vc { color: #19177C } /* Name.Variable.Class */\n",
              ".output_html .vg { color: #19177C } /* Name.Variable.Global */\n",
              ".output_html .vi { color: #19177C } /* Name.Variable.Instance */\n",
              ".output_html .vm { color: #19177C } /* Name.Variable.Magic */\n",
              ".output_html .il { color: #666666 } /* Literal.Number.Integer.Long */</style><div class=\"highlight\"><pre><span></span><span class=\"c1\"># from tvm.script import ir as I</span>\n",
              "<span class=\"c1\"># from tvm.script import tir as T</span>\n",
              "<span class=\"c1\"># from tvm.script import relax as R</span>\n",
              "\n",
              "<span class=\"nd\">@I</span><span class=\"o\">.</span><span class=\"n\">ir_module</span>\n",
              "<span class=\"k\">class</span> <span class=\"nc\">Module</span><span class=\"p\">:</span>\n",
              "    <span class=\"nd\">@T</span><span class=\"o\">.</span><span class=\"n\">prim_func</span><span class=\"p\">(</span><span class=\"n\">private</span><span class=\"o\">=</span><span class=\"kc\">True</span><span class=\"p\">)</span>\n",
              "    <span class=\"k\">def</span> <span class=\"nf\">relu</span><span class=\"p\">(</span><span class=\"n\">x</span><span class=\"p\">:</span> <span class=\"n\">T</span><span class=\"o\">.</span><span class=\"n\">Buffer</span><span class=\"p\">((</span><span class=\"n\">T</span><span class=\"o\">.</span><span class=\"n\">int64</span><span class=\"p\">(</span><span class=\"mi\">128</span><span class=\"p\">),</span> <span class=\"n\">T</span><span class=\"o\">.</span><span class=\"n\">int64</span><span class=\"p\">(</span><span class=\"mi\">128</span><span class=\"p\">)),</span> <span class=\"s2\">&quot;float32&quot;</span><span class=\"p\">),</span> <span class=\"n\">B</span><span class=\"p\">:</span> <span class=\"n\">T</span><span class=\"o\">.</span><span class=\"n\">Buffer</span><span class=\"p\">((</span><span class=\"n\">T</span><span class=\"o\">.</span><span class=\"n\">int64</span><span class=\"p\">(</span><span class=\"mi\">128</span><span class=\"p\">),</span> <span class=\"n\">T</span><span class=\"o\">.</span><span class=\"n\">int64</span><span class=\"p\">(</span><span class=\"mi\">128</span><span class=\"p\">)),</span> <span class=\"s2\">&quot;float32&quot;</span><span class=\"p\">)):</span>\n",
              "        <span class=\"n\">T</span><span class=\"o\">.</span><span class=\"n\">func_attr</span><span class=\"p\">({</span><span class=\"s2\">&quot;tir.noalias&quot;</span><span class=\"p\">:</span> <span class=\"n\">T</span><span class=\"o\">.</span><span class=\"n\">bool</span><span class=\"p\">(</span><span class=\"kc\">True</span><span class=\"p\">)})</span>\n",
              "        <span class=\"c1\"># with T.block(&quot;root&quot;):</span>\n",
              "        <span class=\"k\">for</span> <span class=\"n\">i</span><span class=\"p\">,</span> <span class=\"n\">j</span> <span class=\"ow\">in</span> <span class=\"n\">T</span><span class=\"o\">.</span><span class=\"n\">grid</span><span class=\"p\">(</span><span class=\"n\">T</span><span class=\"o\">.</span><span class=\"n\">int64</span><span class=\"p\">(</span><span class=\"mi\">128</span><span class=\"p\">),</span> <span class=\"n\">T</span><span class=\"o\">.</span><span class=\"n\">int64</span><span class=\"p\">(</span><span class=\"mi\">128</span><span class=\"p\">)):</span>\n",
              "            <span class=\"k\">with</span> <span class=\"n\">T</span><span class=\"o\">.</span><span class=\"n\">block</span><span class=\"p\">(</span><span class=\"s2\">&quot;B&quot;</span><span class=\"p\">):</span>\n",
              "                <span class=\"n\">v_i</span><span class=\"p\">,</span> <span class=\"n\">v_j</span> <span class=\"o\">=</span> <span class=\"n\">T</span><span class=\"o\">.</span><span class=\"n\">axis</span><span class=\"o\">.</span><span class=\"n\">remap</span><span class=\"p\">(</span><span class=\"s2\">&quot;SS&quot;</span><span class=\"p\">,</span> <span class=\"p\">[</span><span class=\"n\">i</span><span class=\"p\">,</span> <span class=\"n\">j</span><span class=\"p\">])</span>\n",
              "                <span class=\"n\">T</span><span class=\"o\">.</span><span class=\"n\">reads</span><span class=\"p\">(</span><span class=\"n\">x</span><span class=\"p\">[</span><span class=\"n\">v_i</span><span class=\"p\">,</span> <span class=\"n\">v_j</span><span class=\"p\">])</span>\n",
              "                <span class=\"n\">T</span><span class=\"o\">.</span><span class=\"n\">writes</span><span class=\"p\">(</span><span class=\"n\">B</span><span class=\"p\">[</span><span class=\"n\">v_i</span><span class=\"p\">,</span> <span class=\"n\">v_j</span><span class=\"p\">])</span>\n",
              "                <span class=\"n\">B</span><span class=\"p\">[</span><span class=\"n\">v_i</span><span class=\"p\">,</span> <span class=\"n\">v_j</span><span class=\"p\">]</span> <span class=\"o\">=</span> <span class=\"n\">T</span><span class=\"o\">.</span><span class=\"n\">max</span><span class=\"p\">(</span><span class=\"n\">x</span><span class=\"p\">[</span><span class=\"n\">v_i</span><span class=\"p\">,</span> <span class=\"n\">v_j</span><span class=\"p\">],</span> <span class=\"n\">T</span><span class=\"o\">.</span><span class=\"n\">float32</span><span class=\"p\">(</span><span class=\"mf\">0.0</span><span class=\"p\">))</span>\n",
              "\n",
              "    <span class=\"nd\">@R</span><span class=\"o\">.</span><span class=\"n\">function</span>\n",
              "    <span class=\"k\">def</span> <span class=\"nf\">main</span><span class=\"p\">(</span><span class=\"n\">x</span><span class=\"p\">:</span> <span class=\"n\">R</span><span class=\"o\">.</span><span class=\"n\">Tensor</span><span class=\"p\">((</span><span class=\"mi\">128</span><span class=\"p\">,</span> <span class=\"mi\">128</span><span class=\"p\">),</span> <span class=\"n\">dtype</span><span class=\"o\">=</span><span class=\"s2\">&quot;float32&quot;</span><span class=\"p\">))</span> <span class=\"o\">-&gt;</span> <span class=\"n\">R</span><span class=\"o\">.</span><span class=\"n\">Tensor</span><span class=\"p\">((</span><span class=\"mi\">128</span><span class=\"p\">,</span> <span class=\"mi\">128</span><span class=\"p\">),</span> <span class=\"n\">dtype</span><span class=\"o\">=</span><span class=\"s2\">&quot;float32&quot;</span><span class=\"p\">):</span>\n",
              "        <span class=\"bp\">cls</span> <span class=\"o\">=</span> <span class=\"n\">Module</span>\n",
              "        <span class=\"k\">with</span> <span class=\"n\">R</span><span class=\"o\">.</span><span class=\"n\">dataflow</span><span class=\"p\">():</span>\n",
              "            <span class=\"n\">lv</span> <span class=\"o\">=</span> <span class=\"n\">R</span><span class=\"o\">.</span><span class=\"n\">call_tir</span><span class=\"p\">(</span><span class=\"bp\">cls</span><span class=\"o\">.</span><span class=\"n\">relu</span><span class=\"p\">,</span> <span class=\"p\">(</span><span class=\"n\">x</span><span class=\"p\">,),</span> <span class=\"n\">out_sinfo</span><span class=\"o\">=</span><span class=\"n\">R</span><span class=\"o\">.</span><span class=\"n\">Tensor</span><span class=\"p\">((</span><span class=\"mi\">128</span><span class=\"p\">,</span> <span class=\"mi\">128</span><span class=\"p\">),</span> <span class=\"n\">dtype</span><span class=\"o\">=</span><span class=\"s2\">&quot;float32&quot;</span><span class=\"p\">))</span>\n",
              "            <span class=\"n\">gv</span><span class=\"p\">:</span> <span class=\"n\">R</span><span class=\"o\">.</span><span class=\"n\">Tensor</span><span class=\"p\">((</span><span class=\"mi\">128</span><span class=\"p\">,</span> <span class=\"mi\">128</span><span class=\"p\">),</span> <span class=\"n\">dtype</span><span class=\"o\">=</span><span class=\"s2\">&quot;float32&quot;</span><span class=\"p\">)</span> <span class=\"o\">=</span> <span class=\"n\">lv</span>\n",
              "            <span class=\"n\">R</span><span class=\"o\">.</span><span class=\"n\">output</span><span class=\"p\">(</span><span class=\"n\">gv</span><span class=\"p\">)</span>\n",
              "        <span class=\"k\">return</span> <span class=\"n\">gv</span>\n",
              "</pre></div>\n"
            ],
            "text/latex": "\\begin{Verbatim}[commandchars=\\\\\\{\\}]\n\\PY{c+c1}{\\PYZsh{} from tvm.script import ir as I}\n\\PY{c+c1}{\\PYZsh{} from tvm.script import tir as T}\n\\PY{c+c1}{\\PYZsh{} from tvm.script import relax as R}\n\n\\PY{n+nd}{@I}\\PY{o}{.}\\PY{n}{ir\\PYZus{}module}\n\\PY{k}{class} \\PY{n+nc}{Module}\\PY{p}{:}\n    \\PY{n+nd}{@T}\\PY{o}{.}\\PY{n}{prim\\PYZus{}func}\\PY{p}{(}\\PY{n}{private}\\PY{o}{=}\\PY{k+kc}{True}\\PY{p}{)}\n    \\PY{k}{def} \\PY{n+nf}{relu}\\PY{p}{(}\\PY{n}{x}\\PY{p}{:} \\PY{n}{T}\\PY{o}{.}\\PY{n}{Buffer}\\PY{p}{(}\\PY{p}{(}\\PY{n}{T}\\PY{o}{.}\\PY{n}{int64}\\PY{p}{(}\\PY{l+m+mi}{128}\\PY{p}{)}\\PY{p}{,} \\PY{n}{T}\\PY{o}{.}\\PY{n}{int64}\\PY{p}{(}\\PY{l+m+mi}{128}\\PY{p}{)}\\PY{p}{)}\\PY{p}{,} \\PY{l+s+s2}{\\PYZdq{}}\\PY{l+s+s2}{float32}\\PY{l+s+s2}{\\PYZdq{}}\\PY{p}{)}\\PY{p}{,} \\PY{n}{B}\\PY{p}{:} \\PY{n}{T}\\PY{o}{.}\\PY{n}{Buffer}\\PY{p}{(}\\PY{p}{(}\\PY{n}{T}\\PY{o}{.}\\PY{n}{int64}\\PY{p}{(}\\PY{l+m+mi}{128}\\PY{p}{)}\\PY{p}{,} \\PY{n}{T}\\PY{o}{.}\\PY{n}{int64}\\PY{p}{(}\\PY{l+m+mi}{128}\\PY{p}{)}\\PY{p}{)}\\PY{p}{,} \\PY{l+s+s2}{\\PYZdq{}}\\PY{l+s+s2}{float32}\\PY{l+s+s2}{\\PYZdq{}}\\PY{p}{)}\\PY{p}{)}\\PY{p}{:}\n        \\PY{n}{T}\\PY{o}{.}\\PY{n}{func\\PYZus{}attr}\\PY{p}{(}\\PY{p}{\\PYZob{}}\\PY{l+s+s2}{\\PYZdq{}}\\PY{l+s+s2}{tir.noalias}\\PY{l+s+s2}{\\PYZdq{}}\\PY{p}{:} \\PY{n}{T}\\PY{o}{.}\\PY{n}{bool}\\PY{p}{(}\\PY{k+kc}{True}\\PY{p}{)}\\PY{p}{\\PYZcb{}}\\PY{p}{)}\n        \\PY{c+c1}{\\PYZsh{} with T.block(\\PYZdq{}root\\PYZdq{}):}\n        \\PY{k}{for} \\PY{n}{i}\\PY{p}{,} \\PY{n}{j} \\PY{o+ow}{in} \\PY{n}{T}\\PY{o}{.}\\PY{n}{grid}\\PY{p}{(}\\PY{n}{T}\\PY{o}{.}\\PY{n}{int64}\\PY{p}{(}\\PY{l+m+mi}{128}\\PY{p}{)}\\PY{p}{,} \\PY{n}{T}\\PY{o}{.}\\PY{n}{int64}\\PY{p}{(}\\PY{l+m+mi}{128}\\PY{p}{)}\\PY{p}{)}\\PY{p}{:}\n            \\PY{k}{with} \\PY{n}{T}\\PY{o}{.}\\PY{n}{block}\\PY{p}{(}\\PY{l+s+s2}{\\PYZdq{}}\\PY{l+s+s2}{B}\\PY{l+s+s2}{\\PYZdq{}}\\PY{p}{)}\\PY{p}{:}\n                \\PY{n}{v\\PYZus{}i}\\PY{p}{,} \\PY{n}{v\\PYZus{}j} \\PY{o}{=} \\PY{n}{T}\\PY{o}{.}\\PY{n}{axis}\\PY{o}{.}\\PY{n}{remap}\\PY{p}{(}\\PY{l+s+s2}{\\PYZdq{}}\\PY{l+s+s2}{SS}\\PY{l+s+s2}{\\PYZdq{}}\\PY{p}{,} \\PY{p}{[}\\PY{n}{i}\\PY{p}{,} \\PY{n}{j}\\PY{p}{]}\\PY{p}{)}\n                \\PY{n}{T}\\PY{o}{.}\\PY{n}{reads}\\PY{p}{(}\\PY{n}{x}\\PY{p}{[}\\PY{n}{v\\PYZus{}i}\\PY{p}{,} \\PY{n}{v\\PYZus{}j}\\PY{p}{]}\\PY{p}{)}\n                \\PY{n}{T}\\PY{o}{.}\\PY{n}{writes}\\PY{p}{(}\\PY{n}{B}\\PY{p}{[}\\PY{n}{v\\PYZus{}i}\\PY{p}{,} \\PY{n}{v\\PYZus{}j}\\PY{p}{]}\\PY{p}{)}\n                \\PY{n}{B}\\PY{p}{[}\\PY{n}{v\\PYZus{}i}\\PY{p}{,} \\PY{n}{v\\PYZus{}j}\\PY{p}{]} \\PY{o}{=} \\PY{n}{T}\\PY{o}{.}\\PY{n}{max}\\PY{p}{(}\\PY{n}{x}\\PY{p}{[}\\PY{n}{v\\PYZus{}i}\\PY{p}{,} \\PY{n}{v\\PYZus{}j}\\PY{p}{]}\\PY{p}{,} \\PY{n}{T}\\PY{o}{.}\\PY{n}{float32}\\PY{p}{(}\\PY{l+m+mf}{0.0}\\PY{p}{)}\\PY{p}{)}\n\n    \\PY{n+nd}{@R}\\PY{o}{.}\\PY{n}{function}\n    \\PY{k}{def} \\PY{n+nf}{main}\\PY{p}{(}\\PY{n}{x}\\PY{p}{:} \\PY{n}{R}\\PY{o}{.}\\PY{n}{Tensor}\\PY{p}{(}\\PY{p}{(}\\PY{l+m+mi}{128}\\PY{p}{,} \\PY{l+m+mi}{128}\\PY{p}{)}\\PY{p}{,} \\PY{n}{dtype}\\PY{o}{=}\\PY{l+s+s2}{\\PYZdq{}}\\PY{l+s+s2}{float32}\\PY{l+s+s2}{\\PYZdq{}}\\PY{p}{)}\\PY{p}{)} \\PY{o}{\\PYZhy{}}\\PY{o}{\\PYZgt{}} \\PY{n}{R}\\PY{o}{.}\\PY{n}{Tensor}\\PY{p}{(}\\PY{p}{(}\\PY{l+m+mi}{128}\\PY{p}{,} \\PY{l+m+mi}{128}\\PY{p}{)}\\PY{p}{,} \\PY{n}{dtype}\\PY{o}{=}\\PY{l+s+s2}{\\PYZdq{}}\\PY{l+s+s2}{float32}\\PY{l+s+s2}{\\PYZdq{}}\\PY{p}{)}\\PY{p}{:}\n        \\PY{n+nb+bp}{cls} \\PY{o}{=} \\PY{n}{Module}\n        \\PY{k}{with} \\PY{n}{R}\\PY{o}{.}\\PY{n}{dataflow}\\PY{p}{(}\\PY{p}{)}\\PY{p}{:}\n            \\PY{n}{lv} \\PY{o}{=} \\PY{n}{R}\\PY{o}{.}\\PY{n}{call\\PYZus{}tir}\\PY{p}{(}\\PY{n+nb+bp}{cls}\\PY{o}{.}\\PY{n}{relu}\\PY{p}{,} \\PY{p}{(}\\PY{n}{x}\\PY{p}{,}\\PY{p}{)}\\PY{p}{,} \\PY{n}{out\\PYZus{}sinfo}\\PY{o}{=}\\PY{n}{R}\\PY{o}{.}\\PY{n}{Tensor}\\PY{p}{(}\\PY{p}{(}\\PY{l+m+mi}{128}\\PY{p}{,} \\PY{l+m+mi}{128}\\PY{p}{)}\\PY{p}{,} \\PY{n}{dtype}\\PY{o}{=}\\PY{l+s+s2}{\\PYZdq{}}\\PY{l+s+s2}{float32}\\PY{l+s+s2}{\\PYZdq{}}\\PY{p}{)}\\PY{p}{)}\n            \\PY{n}{gv}\\PY{p}{:} \\PY{n}{R}\\PY{o}{.}\\PY{n}{Tensor}\\PY{p}{(}\\PY{p}{(}\\PY{l+m+mi}{128}\\PY{p}{,} \\PY{l+m+mi}{128}\\PY{p}{)}\\PY{p}{,} \\PY{n}{dtype}\\PY{o}{=}\\PY{l+s+s2}{\\PYZdq{}}\\PY{l+s+s2}{float32}\\PY{l+s+s2}{\\PYZdq{}}\\PY{p}{)} \\PY{o}{=} \\PY{n}{lv}\n            \\PY{n}{R}\\PY{o}{.}\\PY{n}{output}\\PY{p}{(}\\PY{n}{gv}\\PY{p}{)}\n        \\PY{k}{return} \\PY{n}{gv}\n\\end{Verbatim}\n"
          },
          "metadata": {},
          "execution_count": 19
        }
      ],
      "source": [
        "import IPython\n",
        "\n",
        "mod = emit_te_example()\n",
        "IPython.display.Code(mod.script(), language=\"python\")\n"
      ]
    },
    {
      "cell_type": "markdown",
      "metadata": {
        "id": "I1oHxksGbxtJ"
      },
      "source": [
        "正如你看到的，通过BlockBuilder生成的IRModule确实包含了ReLU的TensorIR实现和一个含有调用ReLU实现的`call_tir`的Relax函数\n",
        "\n",
        "现在轮到你来用BlockBuilder和`emit_te`来创建一个和之前定义的PyTorch模型等价的IRModule。你可以自己为所有的算子写张量表达式描述。或者，TVM提供了TOPI（TVM Operator Inventory）库，它为不同的算子提供了张量表达式描述。如果你愿意阅读[文档](https://tvm.apache.org/docs/reference/api/python/topi.html)来弄懂它的用法，这也是被鼓励的。我们提供了测试函数来检查你的IRModule的正确性。\n",
        "\n",
        "注意到每个Conv2d层和linear层都包含了一个偏置加法，这应该在你构建的IRModule中被体现。"
      ]
    },
    {
      "cell_type": "code",
      "execution_count": 24,
      "metadata": {
        "colab": {
          "base_uri": "https://localhost:8080/",
          "height": 341
        },
        "id": "lKDIjzDlbxtJ",
        "outputId": "1ed51ae2-185e-4d57-d8b8-6bb4d5aeaada"
      },
      "outputs": [
        {
          "output_type": "error",
          "ename": "AttributeError",
          "evalue": "module 'tvm.topi.nn' has no attribute 'max_pool2d'",
          "traceback": [
            "\u001b[0;31m---------------------------------------------------------------------------\u001b[0m",
            "\u001b[0;31mAttributeError\u001b[0m                            Traceback (most recent call last)",
            "\u001b[0;32m<ipython-input-24-cad3d1d9a582>\u001b[0m in \u001b[0;36m<cell line: 57>\u001b[0;34m()\u001b[0m\n\u001b[1;32m     55\u001b[0m \u001b[0mtest_loader\u001b[0m \u001b[0;34m=\u001b[0m \u001b[0mtorch\u001b[0m\u001b[0;34m.\u001b[0m\u001b[0mutils\u001b[0m\u001b[0;34m.\u001b[0m\u001b[0mdata\u001b[0m\u001b[0;34m.\u001b[0m\u001b[0mDataLoader\u001b[0m\u001b[0;34m(\u001b[0m\u001b[0mtest_data\u001b[0m\u001b[0;34m,\u001b[0m \u001b[0mbatch_size\u001b[0m\u001b[0;34m=\u001b[0m\u001b[0mbatch_size\u001b[0m\u001b[0;34m,\u001b[0m \u001b[0mshuffle\u001b[0m\u001b[0;34m=\u001b[0m\u001b[0;32mFalse\u001b[0m\u001b[0;34m)\u001b[0m\u001b[0;34m\u001b[0m\u001b[0;34m\u001b[0m\u001b[0m\n\u001b[1;32m     56\u001b[0m \u001b[0;34m\u001b[0m\u001b[0m\n\u001b[0;32m---> 57\u001b[0;31m \u001b[0mmod\u001b[0m \u001b[0;34m=\u001b[0m \u001b[0mcreate_model_via_emit_te\u001b[0m\u001b[0;34m(\u001b[0m\u001b[0;34m)\u001b[0m\u001b[0;34m\u001b[0m\u001b[0;34m\u001b[0m\u001b[0m\n\u001b[0m\u001b[1;32m     58\u001b[0m \u001b[0mtorch_model\u001b[0m \u001b[0;34m=\u001b[0m \u001b[0mpytorch_model\u001b[0m\u001b[0;34m(\u001b[0m\u001b[0;34m)\u001b[0m\u001b[0;34m\u001b[0m\u001b[0;34m\u001b[0m\u001b[0m\n\u001b[1;32m     59\u001b[0m \u001b[0;34m\u001b[0m\u001b[0m\n",
            "\u001b[0;32m<ipython-input-24-cad3d1d9a582>\u001b[0m in \u001b[0;36mcreate_model_via_emit_te\u001b[0;34m()\u001b[0m\n\u001b[1;32m     18\u001b[0m            \u001b[0ml1\u001b[0m \u001b[0;34m=\u001b[0m \u001b[0mbb\u001b[0m\u001b[0;34m.\u001b[0m\u001b[0memit_te\u001b[0m\u001b[0;34m(\u001b[0m\u001b[0mtopi\u001b[0m\u001b[0;34m.\u001b[0m\u001b[0mnn\u001b[0m\u001b[0;34m.\u001b[0m\u001b[0madd\u001b[0m\u001b[0;34m,\u001b[0m \u001b[0ml1\u001b[0m\u001b[0;34m,\u001b[0m \u001b[0mconv2d_bias\u001b[0m\u001b[0;34m)\u001b[0m\u001b[0;34m\u001b[0m\u001b[0;34m\u001b[0m\u001b[0m\n\u001b[1;32m     19\u001b[0m            \u001b[0ml2\u001b[0m \u001b[0;34m=\u001b[0m \u001b[0mbb\u001b[0m\u001b[0;34m.\u001b[0m\u001b[0memit_te\u001b[0m\u001b[0;34m(\u001b[0m\u001b[0mtopi\u001b[0m\u001b[0;34m.\u001b[0m\u001b[0mnn\u001b[0m\u001b[0;34m.\u001b[0m\u001b[0mrelu\u001b[0m\u001b[0;34m,\u001b[0m \u001b[0ml1\u001b[0m\u001b[0;34m)\u001b[0m\u001b[0;34m\u001b[0m\u001b[0;34m\u001b[0m\u001b[0m\n\u001b[0;32m---> 20\u001b[0;31m            \u001b[0ml3\u001b[0m \u001b[0;34m=\u001b[0m \u001b[0mbb\u001b[0m\u001b[0;34m.\u001b[0m\u001b[0memit_te\u001b[0m\u001b[0;34m(\u001b[0m\u001b[0mtopi\u001b[0m\u001b[0;34m.\u001b[0m\u001b[0mnn\u001b[0m\u001b[0;34m.\u001b[0m\u001b[0mmax_pool2d\u001b[0m\u001b[0;34m,\u001b[0m \u001b[0ml2\u001b[0m\u001b[0;34m,\u001b[0m \u001b[0mpool_size\u001b[0m\u001b[0;34m=\u001b[0m\u001b[0;34m(\u001b[0m\u001b[0;36m2\u001b[0m\u001b[0;34m,\u001b[0m \u001b[0;36m2\u001b[0m\u001b[0;34m)\u001b[0m\u001b[0;34m,\u001b[0m \u001b[0mstrides\u001b[0m\u001b[0;34m=\u001b[0m\u001b[0;34m(\u001b[0m\u001b[0;36m2\u001b[0m\u001b[0;34m,\u001b[0m \u001b[0;36m2\u001b[0m\u001b[0;34m)\u001b[0m\u001b[0;34m,\u001b[0m \u001b[0mpadding\u001b[0m\u001b[0;34m=\u001b[0m\u001b[0;34m(\u001b[0m\u001b[0;36m0\u001b[0m\u001b[0;34m,\u001b[0m \u001b[0;36m0\u001b[0m\u001b[0;34m)\u001b[0m\u001b[0;34m)\u001b[0m\u001b[0;34m\u001b[0m\u001b[0;34m\u001b[0m\u001b[0m\n\u001b[0m\u001b[1;32m     21\u001b[0m            \u001b[0ml4\u001b[0m \u001b[0;34m=\u001b[0m \u001b[0mbb\u001b[0m\u001b[0;34m.\u001b[0m\u001b[0memit_te\u001b[0m\u001b[0;34m(\u001b[0m\u001b[0mtopi\u001b[0m\u001b[0;34m.\u001b[0m\u001b[0mnn\u001b[0m\u001b[0;34m.\u001b[0m\u001b[0mflatten\u001b[0m\u001b[0;34m,\u001b[0m \u001b[0ml3\u001b[0m\u001b[0;34m)\u001b[0m\u001b[0;34m\u001b[0m\u001b[0;34m\u001b[0m\u001b[0m\n\u001b[1;32m     22\u001b[0m            \u001b[0ml5\u001b[0m \u001b[0;34m=\u001b[0m \u001b[0mbb\u001b[0m\u001b[0;34m.\u001b[0m\u001b[0memit_te\u001b[0m\u001b[0;34m(\u001b[0m\u001b[0mtopi\u001b[0m\u001b[0;34m.\u001b[0m\u001b[0mnn\u001b[0m\u001b[0;34m.\u001b[0m\u001b[0mdense\u001b[0m\u001b[0;34m,\u001b[0m \u001b[0ml4\u001b[0m\u001b[0;34m,\u001b[0m \u001b[0mlinear0_weight\u001b[0m\u001b[0;34m,\u001b[0m \u001b[0mlinear0_bias\u001b[0m\u001b[0;34m)\u001b[0m\u001b[0;34m\u001b[0m\u001b[0;34m\u001b[0m\u001b[0m\n",
            "\u001b[0;31mAttributeError\u001b[0m: module 'tvm.topi.nn' has no attribute 'max_pool2d'"
          ]
        }
      ],
      "source": [
        "def create_model_via_emit_te():\n",
        "    bb = relax.BlockBuilder()\n",
        "    x = relax.Var(\"x\", relax.TensorStructInfo(input_shape, \"float32\"))\n",
        "\n",
        "    conv2d_weight = relax.const(weight_map[\"conv2d_weight\"], \"float32\")\n",
        "    conv2d_bias = relax.const(weight_map[\"conv2d_bias\"].reshape(1, 32, 1, 1), \"float32\")\n",
        "    linear0_weight = relax.const(weight_map[\"linear0_weight\"], \"float32\")\n",
        "    linear0_bias = relax.const(weight_map[\"linear0_bias\"].reshape(1, 100), \"float32\")\n",
        "    linear1_weight = relax.const(weight_map[\"linear1_weight\"], \"float32\")\n",
        "    linear1_bias = relax.const(weight_map[\"linear1_bias\"].reshape(1, 10), \"float32\")\n",
        "\n",
        "    with bb.function(\"main\", [x]):\n",
        "        with bb.dataflow():\n",
        "           l1 = bb.emit_te(topi.nn.conv2d_nchw,\n",
        "                    x, conv2d_weight,\n",
        "                    stride=(1, 1),\n",
        "                      padding=(1, 1), dilation=(1, 1), out_dtype=\"float32\")\n",
        "           l1 = bb.emit_te(topi.nn.add, l1, conv2d_bias)\n",
        "           l2 = bb.emit_te(topi.nn.relu, l1)\n",
        "           l3 = bb.emit_te(topi.nn.max_pool2d, l2, pool_size=(2, 2), strides=(2, 2), padding=(0, 0))\n",
        "           l4 = bb.emit_te(topi.nn.flatten, l3)\n",
        "           l5 = bb.emit_te(topi.nn.dense, l4, linear0_weight, linear0_bias)\n",
        "           l6 = bb.emit_te(topi.nn.relu, l5)\n",
        "           l7 = bb.emit_te(topi.nn.dense, l6, linear1_weight, linear1_bias)\n",
        "           gv = bb.emit_output(l7)\n",
        "        bb.emit_func_output(gv)\n",
        "\n",
        "    return bb.get()\n",
        "\n",
        "\n",
        "def build_mod(mod):\n",
        "    exec = relax.vm.build(mod, \"llvm\")\n",
        "    dev = tvm.cpu()\n",
        "    vm = relax.VirtualMachine(exec, dev)\n",
        "    return vm\n",
        "\n",
        "\n",
        "def check_equivalence(mod, torch_model, test_loader):\n",
        "    torch_model.eval()\n",
        "    with torch.no_grad():\n",
        "        rt_mod = build_mod(mod)\n",
        "        for data, label in test_loader:\n",
        "            data, label = data.cpu(), label.cpu()\n",
        "            output_from_pytorch = torch_model(data).numpy()\n",
        "            output_from_relax = rt_mod[\"main\"](tvm.nd.array(data, tvm.cpu())).numpy()\n",
        "            tvm.testing.assert_allclose(output_from_pytorch, output_from_relax, rtol=1e-4)\n",
        "\n",
        "\n",
        "test_data = torchvision.datasets.FashionMNIST(\n",
        "    \"./data\",\n",
        "    download=True,\n",
        "    train=False,\n",
        "    transform=transforms.Compose([transforms.ToTensor()])\n",
        ")\n",
        "test_loader = torch.utils.data.DataLoader(test_data, batch_size=batch_size, shuffle=False)\n",
        "\n",
        "mod = create_model_via_emit_te()\n",
        "torch_model = pytorch_model()\n",
        "\n",
        "check_equivalence(mod, torch_model, test_loader)\n",
        "IPython.display.Code(mod.script(), language=\"python\")\n"
      ]
    },
    {
      "cell_type": "markdown",
      "metadata": {
        "id": "25ViqDJKbxtJ"
      },
      "source": [
        "## 第三部分: 使用库\n",
        "\n",
        "正如我们在第四节课中谈到的，我们可以将torch函数整合进IRModule。步骤包括注册一个外部运行时函数，和在IRModule中用`call_tir`调用。\n",
        "\n",
        "这里是一个用torch matmul和torch add拉力实现一个linear层的例子。你也可以在第四节课的笔记中找到这个例子。\n",
        "\n",
        "\n",
        "```python\n",
        "@tvm.register_func(\"env.linear\", override=True)\n",
        "def torch_linear(x: tvm.nd.NDArray,\n",
        "                 w: tvm.nd.NDArray,\n",
        "                 b: tvm.nd.NDArray,\n",
        "                 out: tvm.nd.NDArray):\n",
        "    x_torch = torch.from_dlpack(x)\n",
        "    w_torch = torch.from_dlpack(w)\n",
        "    b_torch = torch.from_dlpack(b)\n",
        "    out_torch = torch.from_dlpack(out)\n",
        "    torch.mm(x_torch, w_torch.T, out=out_torch)\n",
        "    torch.add(out_torch, b_torch, out=out_torch)\n",
        "\n",
        "\n",
        "@tvm.script.ir_module\n",
        "class MyModuleWithExternCall:\n",
        "    @R.function\n",
        "    def main(x: Tensor((1, 784), \"float32\"),\n",
        "             w0: Tensor((128, 784), \"float32\"),\n",
        "             b0: Tensor((128,), \"float32\")):\n",
        "        # block 0\n",
        "        with R.dataflow():\n",
        "            lv0 = R.call_tir(\"env.linear\", (x, w0, b0), (1, 128), dtype=\"float32\")\n",
        "            ...\n",
        "        return ...\n",
        "```"
      ]
    },
    {
      "cell_type": "markdown",
      "metadata": {
        "id": "N1eokhRubxtJ"
      },
      "source": [
        "请为你在第二部分中创建的IRModule中的卷积层注册外部函数。你需要使用NumPy或者PyTorch作为你的函数实现。\n",
        "\n",
        "你可能需要使用`BlockBuilder.emit`在正在构建的Relax函数的结尾直接添加一个`call_tir`操作。"
      ]
    },
    {
      "cell_type": "code",
      "execution_count": null,
      "metadata": {
        "id": "gGlyHCOVbxtK"
      },
      "outputs": [],
      "source": [
        "\n",
        "\n",
        "def create_model_with_torch_func():\n",
        "    bb = relax.BlockBuilder()\n",
        "\n",
        "    x = relax.Var(\"x\", input_shape, relax.DynTensorType(4, \"float32\"))\n",
        "\n",
        "    conv2d_weight = relax.const(weight_map[\"conv2d_weight\"], \"float32\")\n",
        "    conv2d_bias = relax.const(weight_map[\"conv2d_bias\"].reshape(1, 32, 1, 1), \"float32\")\n",
        "    linear0_weight = relax.const(weight_map[\"linear0_weight\"], \"float32\")\n",
        "    linear0_bias = relax.const(weight_map[\"linear0_bias\"].reshape(1, 100), \"float32\")\n",
        "    linear1_weight = relax.const(weight_map[\"linear1_weight\"], \"float32\")\n",
        "    linear1_bias = relax.const(weight_map[\"linear1_bias\"].reshape(1, 10), \"float32\")\n",
        "\n",
        "    with bb.function(\"main\", [x]):\n",
        "        with bb.dataflow():\n",
        "\n",
        "        bb.emit_func_output(gv)\n",
        "\n",
        "    return bb.get()\n",
        "\n",
        "\n",
        "test_loader = torch.utils.data.DataLoader(test_data, batch_size=batch_size, shuffle=False)\n",
        "mod = create_model_with_torch_func()\n",
        "check_equivalence(mod, torch_model, test_loader)\n"
      ]
    },
    {
      "cell_type": "markdown",
      "metadata": {
        "id": "6mbIy7RUbxtK"
      },
      "source": [
        "## 第四部分: 端到端模型中的程序变换\n",
        "\n",
        "在TensorIR练习中, 我们学会了如何变换单个TensorIR函数。在端到端模型中变换是类似的。\n",
        "\n",
        "和批量矩阵乘法相比，让我们关注一个更加有挑战性的算子：conv2d（二维卷积）。\n",
        "\n",
        "首先，让我们介绍一些新的原语：\n",
        " - `compute_inline`：它将一个block内联到另一个block中，以减少内存使用大小和内存访问次数\n",
        " - `fuse`：和`split`相对。融合多个轴。这里`fuse`与`parallel` / `vectorize` / `unroll`一起使用，以增加并行度。"
      ]
    },
    {
      "cell_type": "code",
      "execution_count": null,
      "metadata": {
        "id": "TemABiIlbxtK"
      },
      "outputs": [],
      "source": [
        "@T.prim_func\n",
        "def before_inline(a: T.handle, c: T.handle) -> None:\n",
        "    A = T.match_buffer(a, (128, 128))\n",
        "    B = T.alloc_buffer((128, 128))\n",
        "    C = T.match_buffer(c, (128, 128))\n",
        "    for i, j in T.grid(128, 128):\n",
        "        with T.block(\"B\"):\n",
        "            vi, vj = T.axis.remap(\"SS\", [i, j])\n",
        "            B[vi, vj] = A[vi, vj] * 2.0\n",
        "    for i, j in T.grid(128, 128):\n",
        "        with T.block(\"C\"):\n",
        "            vi, vj = T.axis.remap(\"SS\", [i, j])\n",
        "            C[vi, vj] = B[vi, vj] + 1.0\n",
        "\n",
        "\n",
        "sch = tvm.tir.Schedule(before_inline)\n",
        "sch.compute_inline(sch.get_block(\"B\"))\n",
        "IPython.display.Code(sch.mod[\"main\"].script(), language=\"python\")\n"
      ]
    },
    {
      "cell_type": "code",
      "execution_count": null,
      "metadata": {
        "id": "xLgAUpFybxtK"
      },
      "outputs": [],
      "source": [
        "@T.prim_func\n",
        "def before_fuse(a: T.handle, b: T.handle) -> None:\n",
        "    A = T.match_buffer(a, (128, 128))\n",
        "    B = T.match_buffer(b, (128, 128))\n",
        "    for i, j in T.grid(128, 128):\n",
        "        with T.block(\"B\"):\n",
        "            vi, vj = T.axis.remap(\"SS\", [i, j])\n",
        "            B[vi, vj] = A[vi, vj] * 2.0\n",
        "\n",
        "\n",
        "sch = tvm.tir.Schedule(before_fuse)\n",
        "i, j = sch.get_loops(sch.get_block(\"B\"))\n",
        "sch.fuse(i, j)\n",
        "IPython.display.Code(sch.mod[\"main\"].script(), language=\"python\")\n"
      ]
    },
    {
      "cell_type": "markdown",
      "metadata": {
        "id": "aQOHoQI4bxtK"
      },
      "source": [
        "现在我们首先为第二部分中得到的IRModule创建一个schedule，然后对其中的conv2d TensorIR函数变换。和TensorIR练习类似，我们提供了一个目标函数。但请注意，目标函数不是标准答案，原因如下：\n",
        " - 它可能不能在所有硬件中都取得最佳性能\n",
        " - 原始的conv2d TensorIR实现可能不同，这决定与你在第二部分中使用的张量表达式描述：\n",
        "   - 如果你将conv2d的计算和偏置加法的计算放在了一个张量表达式中，那么在变换完成的TensorIR函数的末尾应该有一个计算偏置加法的block\n",
        "   - 如果你将上述两个计算分开在不同的张量表达式，或者你使用了TOPI提供的conv2d，那么变换完成的TensorIR函数末尾不应该有计算偏置加法的block。下面给出的目标函数是用TOPI conv2d获得的TensorIR函数做变换后生成的。\n",
        "\n",
        "```python\n",
        "@T.prim_func\n",
        "def target_func(rxplaceholder: T.Buffer[(4, 1, 28, 28), \"float32\"], rxplaceholder_1: T.Buffer[(32, 1, 3, 3), \"float32\"], conv2d_nchw: T.Buffer[(4, 32, 26, 26), \"float32\"]) -> None:\n",
        "    T.func_attr({\"global_symbol\": \"conv2d\", \"tir.noalias\": True})\n",
        "    # body\n",
        "    # with T.block(\"root\")\n",
        "    for i0_0_i1_0_i2_0_i3_0_fused in T.parallel(2704):\n",
        "        for i0_1_i1_1_fused_init in T.unroll(8):\n",
        "            for i2_1_i3_1_fused_init in T.vectorized(4):\n",
        "                with T.block(\"conv2d_nchw_init\"):\n",
        "                    nn = T.axis.spatial(\n",
        "                        4, i0_0_i1_0_i2_0_i3_0_fused // 1352 * 2 + i0_1_i1_1_fused_init // 4)\n",
        "                    ff = T.axis.spatial(\n",
        "                        32, i0_0_i1_0_i2_0_i3_0_fused % 1352 // 169 * 4 + i0_1_i1_1_fused_init % 4)\n",
        "                    yy = T.axis.spatial(\n",
        "                        26, i0_0_i1_0_i2_0_i3_0_fused % 169 // 13 * 2 + i2_1_i3_1_fused_init // 2)\n",
        "                    xx = T.axis.spatial(\n",
        "                        26, i0_0_i1_0_i2_0_i3_0_fused % 13 * 2 + i2_1_i3_1_fused_init % 2)\n",
        "                    T.reads()\n",
        "                    T.writes(conv2d_nchw[nn, ff, yy, xx])\n",
        "                    conv2d_nchw[nn, ff, yy, xx] = T.float32(0)\n",
        "        for i4, i5, i6 in T.grid(1, 3, 3):\n",
        "            for i0_1_i1_1_fused in T.unroll(8):\n",
        "                for i2_1_i3_1_fused in T.vectorized(4):\n",
        "                    with T.block(\"conv2d_nchw_update\"):\n",
        "                        nn = T.axis.spatial(\n",
        "                            4, i0_0_i1_0_i2_0_i3_0_fused // 1352 * 2 + i0_1_i1_1_fused // 4)\n",
        "                        ff = T.axis.spatial(\n",
        "                            32, i0_0_i1_0_i2_0_i3_0_fused % 1352 // 169 * 4 + i0_1_i1_1_fused % 4)\n",
        "                        yy = T.axis.spatial(\n",
        "                            26, i0_0_i1_0_i2_0_i3_0_fused % 169 // 13 * 2 + i2_1_i3_1_fused // 2)\n",
        "                        xx = T.axis.spatial(\n",
        "                            26, i0_0_i1_0_i2_0_i3_0_fused % 13 * 2 + i2_1_i3_1_fused % 2)\n",
        "                        rc, ry, rx = T.axis.remap(\"RRR\", [i4, i5, i6])\n",
        "                        T.reads(conv2d_nchw[nn, ff, yy, xx], rxplaceholder[nn,\n",
        "                                rc, yy + ry, xx + rx], rxplaceholder_1[ff, rc, ry, rx])\n",
        "                        T.writes(conv2d_nchw[nn, ff, yy, xx])\n",
        "                        conv2d_nchw[nn, ff, yy, xx] = conv2d_nchw[nn, ff, yy, xx] + \\\n",
        "                            rxplaceholder[nn, rc, yy + ry, xx +\n",
        "                                          rx] * rxplaceholder_1[ff, rc, ry, rx]\n",
        "```"
      ]
    },
    {
      "cell_type": "markdown",
      "metadata": {
        "id": "LXvQiYMTbxtK"
      },
      "source": [
        "和TensorIR练习中不同的是, 这里schedule是为一个IRModule创建的，而不是TensorIR函数. 因此，当使用`sch.get_block`时，需要提供TensorIR函数名字，如下方所示。"
      ]
    },
    {
      "cell_type": "code",
      "execution_count": null,
      "metadata": {
        "id": "GTwfuLI5bxtL"
      },
      "outputs": [],
      "source": [
        "mod = create_model_via_emit_te()\n",
        "sch = tvm.tir.Schedule(mod)\n",
        "\n",
        "# Step 1. Get blocks\n",
        "# block = sch.get_block(name=\"your_block_name\", func_name=\"your_function_name\")\n",
        "\n",
        "# Step 2. Inline the padding block (if exists)\n",
        "\n",
        "# Step 3. Get loops\n",
        "\n",
        "# Step 4. Organize the loops\n",
        "\n",
        "# Step 5. decompose reduction\n",
        "\n",
        "# Step 6. fuse + vectorize / fuse + parallel / fuse + unroll\n",
        "\n",
        "IPython.display.Code(sch.mod.script(), language=\"python\")\n"
      ]
    },
    {
      "cell_type": "markdown",
      "metadata": {
        "id": "3cGnjqv8bxtL"
      },
      "source": [
        "同样，我们可以测试变换后IRModule的正确性。"
      ]
    },
    {
      "cell_type": "code",
      "execution_count": null,
      "metadata": {
        "id": "I1abNAMMbxtL"
      },
      "outputs": [],
      "source": [
        "test_loader = torch.utils.data.DataLoader(test_data, batch_size=batch_size, shuffle=False)\n",
        "check_equivalence(sch.mod, torch_model, test_loader)\n"
      ]
    }
  ],
  "metadata": {
    "kernelspec": {
      "display_name": "Python 3.8.10 64-bit",
      "language": "python",
      "name": "python3"
    },
    "language_info": {
      "codemirror_mode": {
        "name": "ipython",
        "version": 3
      },
      "file_extension": ".py",
      "mimetype": "text/x-python",
      "name": "python",
      "nbconvert_exporter": "python",
      "pygments_lexer": "ipython3",
      "version": "3.8.10"
    },
    "orig_nbformat": 4,
    "vscode": {
      "interpreter": {
        "hash": "916dbcbb3f70747c44a77c7bcd40155683ae19c65e1c03b4aa3499c5328201f1"
      }
    },
    "colab": {
      "provenance": [],
      "include_colab_link": true
    }
  },
  "nbformat": 4,
  "nbformat_minor": 0
}